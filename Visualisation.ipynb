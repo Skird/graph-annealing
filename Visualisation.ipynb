{
 "cells": [
  {
   "cell_type": "code",
   "execution_count": 13,
   "metadata": {},
   "outputs": [],
   "source": [
    "import matplotlib.pyplot as plt\n",
    "import networkx as nx\n",
    "from random import randint\n",
    "from ipywidgets import interact\n",
    "from IPython.display import display\n",
    "import ipywidgets as widgets\n",
    "import subprocess\n",
    "%matplotlib inline"
   ]
  },
  {
   "cell_type": "code",
   "execution_count": 14,
   "metadata": {},
   "outputs": [],
   "source": [
    "G = nx.Graph()\n",
    "with open('graph.txt', 'r') as f:\n",
    "    n, m = map(int, f.readline().strip().split())\n",
    "    G.add_nodes_from(range(n))\n",
    "    for _ in range(m):\n",
    "        u, v = map(int, f.readline().strip().split())\n",
    "        G.add_edge(u, v)\n",
    "W, H = 100, 100"
   ]
  },
  {
   "cell_type": "code",
   "execution_count": 34,
   "metadata": {},
   "outputs": [],
   "source": [
    "layouts = [{i: (randint(0, W), randint(0, H)) for i in G} for _ in range(1)]\n",
    "meta = []\n",
    "temperature = []"
   ]
  },
  {
   "cell_type": "code",
   "execution_count": 16,
   "metadata": {},
   "outputs": [],
   "source": [
    "with open('start.txt', 'r') as f:\n",
    "    last = None\n",
    "    for line in f:\n",
    "        last = line\n",
    "    layouts = [{i : tuple(map(float, x.split())) for i, x in enumerate(last.split(';')[:len(G)])}]"
   ]
  },
  {
   "cell_type": "code",
   "execution_count": 45,
   "metadata": {},
   "outputs": [
    {
     "data": {
      "application/vnd.jupyter.widget-view+json": {
       "model_id": "2c6b967e1c5245bb828391ed6b4c9bd7",
       "version_major": 2,
       "version_minor": 0
      },
      "text/plain": [
       "FloatLogSlider(value=1000.0, description='Nodes', max=3.0)"
      ]
     },
     "metadata": {},
     "output_type": "display_data"
    },
    {
     "data": {
      "application/vnd.jupyter.widget-view+json": {
       "model_id": "94b1381cff704c8c90a07676223a487d",
       "version_major": 2,
       "version_minor": 0
      },
      "text/plain": [
       "FloatLogSlider(value=1000.0, description='Border', max=3.0)"
      ]
     },
     "metadata": {},
     "output_type": "display_data"
    },
    {
     "data": {
      "application/vnd.jupyter.widget-view+json": {
       "model_id": "1d6f1ee37d1c46f9a7d5c17f3378be83",
       "version_major": 2,
       "version_minor": 0
      },
      "text/plain": [
       "FloatLogSlider(value=0.01, description='Edges', max=0.0, min=-3.0)"
      ]
     },
     "metadata": {},
     "output_type": "display_data"
    },
    {
     "data": {
      "application/vnd.jupyter.widget-view+json": {
       "model_id": "ab3db476c5ce4dc58865be06fe958b38",
       "version_major": 2,
       "version_minor": 0
      },
      "text/plain": [
       "FloatLogSlider(value=300.0, description='Crossings')"
      ]
     },
     "metadata": {},
     "output_type": "display_data"
    },
    {
     "data": {
      "application/vnd.jupyter.widget-view+json": {
       "model_id": "ee1c15fa5d6c411aa7479c627e050d53",
       "version_major": 2,
       "version_minor": 0
      },
      "text/plain": [
       "FloatLogSlider(value=10000.0, description='Temperature', max=5.0)"
      ]
     },
     "metadata": {},
     "output_type": "display_data"
    },
    {
     "data": {
      "application/vnd.jupyter.widget-view+json": {
       "model_id": "df56780ecde04c9b93958d56b53b99fe",
       "version_major": 2,
       "version_minor": 0
      },
      "text/plain": [
       "Text(value='0.9985', description='Cooling')"
      ]
     },
     "metadata": {},
     "output_type": "display_data"
    },
    {
     "data": {
      "application/vnd.jupyter.widget-view+json": {
       "model_id": "d34332ec47974553909bc5d666b3a0bd",
       "version_major": 2,
       "version_minor": 0
      },
      "text/plain": [
       "IntSlider(value=10000, description='Iterations', max=100000, min=1)"
      ]
     },
     "metadata": {},
     "output_type": "display_data"
    },
    {
     "data": {
      "application/vnd.jupyter.widget-view+json": {
       "model_id": "7b916420d1ff4bb4821d7d1ad2eb2924",
       "version_major": 2,
       "version_minor": 0
      },
      "text/plain": [
       "Button(description='Launch annealing', style=ButtonStyle())"
      ]
     },
     "metadata": {},
     "output_type": "display_data"
    },
    {
     "data": {
      "application/vnd.jupyter.widget-view+json": {
       "model_id": "45aa655cbc2a4a6998c943a2b7ef30be",
       "version_major": 2,
       "version_minor": 0
      },
      "text/plain": [
       "Button(description='Launch fine tuning', style=ButtonStyle())"
      ]
     },
     "metadata": {},
     "output_type": "display_data"
    },
    {
     "data": {
      "application/vnd.jupyter.widget-view+json": {
       "model_id": "3fbcc6428a6545d3b085af1fe5c8d819",
       "version_major": 2,
       "version_minor": 0
      },
      "text/plain": [
       "Button(description='Reset', style=ButtonStyle())"
      ]
     },
     "metadata": {},
     "output_type": "display_data"
    },
    {
     "name": "stdout",
     "output_type": "stream",
     "text": [
      "History contains 100002 layouts\n",
      "Resetting: now have 1 layouts\n",
      "EndT=0.003020; Added 10002 new layouts, now history contains 10002 layouts\n",
      "EndT=0.000000; Added 100002 new layouts, now history contains 110003 layouts\n",
      "EndT=10000.000000; Added 100002 new layouts, now history contains 210004 layouts\n"
     ]
    }
   ],
   "source": [
    "nodesW = widgets.FloatLogSlider(description='Nodes', min=0, max=3, value=1000)\n",
    "borderW = widgets.FloatLogSlider(description='Border', min=0, max=3, value=1000)\n",
    "edgesW = widgets.FloatLogSlider(description='Edges', min=-3, max=0, value=0.01)\n",
    "crossW = widgets.FloatLogSlider(description='Crossings', min=0, max=4, value=300)\n",
    "T = widgets.FloatLogSlider(description='Temperature', min=0, max=5, value=1e4)\n",
    "cooling = widgets.Text(description='Cooling', value='0.9985')\n",
    "iters = widgets.IntSlider(description='Iterations', min=1, max=100000, value=10000)\n",
    "button = widgets.Button(description='Launch annealing')\n",
    "tune = widgets.Button(description='Launch fine tuning')\n",
    "\n",
    "def launch_annealing(button):\n",
    "    try:\n",
    "        float(cooling.value)\n",
    "    except:\n",
    "        print('Cooling temperature (%s) is incorrect' % cooling.value)\n",
    "        return\n",
    "    with open('start.txt', 'w') as f:\n",
    "        f.write(';'.join(map(lambda x: \"%s %s\" % (x[0], x[1]), (layouts[-1][i] for i in sorted(list(G.nodes))))))\n",
    "    new_info = subprocess.run([\n",
    "        \"./build/main\",\n",
    "        \"--nodes\", str(nodesW.value),\n",
    "        \"--edges\", str(edgesW.value),\n",
    "        \"--border\", str(borderW.value),\n",
    "        \"--cross\", str(crossW.value),\n",
    "        \"--startT\", str(T.value),\n",
    "        \"--cooling\", str(cooling.value),\n",
    "        \"--rounds\", str(iters.value),\n",
    "        \"--width\", str(W),\n",
    "        \"--height\", str(H),\n",
    "        \"--starting-layout\", \"start.txt\"\n",
    "    ], capture_output=True).stdout.decode('utf-8').split('\\n')\n",
    "    temp = T.value\n",
    "    for line in new_info:\n",
    "        coords = dict(enumerate(map(lambda x: tuple(map(float, x.split(' '))), line.split(';')[:-4])))\n",
    "        if len(coords) > 0:\n",
    "            layouts.append(coords)\n",
    "            meta.append(tuple(map(float, line.split(';')[-4:])))\n",
    "            temperature.append(temp)\n",
    "            temp *= float(cooling.value)\n",
    "    print('EndT=%f; Added %d new layouts, now history contains %d layouts' % (temp, len(new_info), len(layouts)))\n",
    "    \n",
    "def fine_tune(button):\n",
    "    try:\n",
    "        float(cooling.value)\n",
    "    except:\n",
    "        print('Cooling temperature (%s) is incorrect' % cooling.value)\n",
    "        return\n",
    "    with open('start.txt', 'w') as f:\n",
    "        f.write(';'.join(map(lambda x: \"%s %s\" % (x[0], x[1]), (layouts[-1][i] for i in sorted(list(G.nodes))))))\n",
    "    new_info = subprocess.run([\n",
    "        \"./build/main\",\n",
    "        \"--nodes\", str(nodesW.value),\n",
    "        \"--edges\", str(edgesW.value),\n",
    "        \"--border\", str(borderW.value),\n",
    "        \"--cross\", str(crossW.value),\n",
    "        \"--startT\", str(T.value),\n",
    "        \"--cooling\", str(cooling.value),\n",
    "        \"--rounds\", str(iters.value),\n",
    "        \"--width\", str(W),\n",
    "        \"--height\", str(H),\n",
    "        \"--fine-tune\",\n",
    "        \"--starting-layout\", \"start.txt\"\n",
    "    ], capture_output=True).stdout.decode('utf-8').split('\\n')\n",
    "    temp = T.value\n",
    "    for line in new_info:\n",
    "        coords = dict(enumerate(map(lambda x: tuple(map(float, x.split(' '))), line.split(';')[:-4])))\n",
    "        if len(coords) > 0:\n",
    "            layouts.append(coords)\n",
    "            meta.append(tuple(map(float, line.split(';')[-4:])))\n",
    "            temperature.append(temp)\n",
    "    print('EndT=%f; Added %d new layouts, now history contains %d layouts' % (temp, len(new_info), len(layouts)))\n",
    "\n",
    "def do_reset(button):\n",
    "    W, H = 100, 100\n",
    "    global layouts\n",
    "    global meta\n",
    "    global temperature\n",
    "    layouts = layouts[:1]\n",
    "    meta = []\n",
    "    temperature = []\n",
    "    print('Resetting: now have %d layouts' % len(layouts))\n",
    "    \n",
    "display(nodesW)\n",
    "display(borderW)\n",
    "display(edgesW)\n",
    "display(crossW)\n",
    "display(T)\n",
    "display(cooling)\n",
    "display(iters)\n",
    "display(button)\n",
    "display(tune)\n",
    "button.on_click(launch_annealing)\n",
    "tune.on_click(fine_tune)\n",
    "reset = widgets.Button(description='Reset')\n",
    "display(reset)\n",
    "reset.on_click(do_reset)\n",
    "print('History contains %d layouts' % len(layouts))"
   ]
  },
  {
   "cell_type": "code",
   "execution_count": 50,
   "metadata": {},
   "outputs": [
    {
     "data": {
      "image/png": "[encoded data removed]",
      "text/plain": [
       "<Figure size 432x288 with 2 Axes>"
      ]
     },
     "metadata": {
      "needs_background": "light"
     },
     "output_type": "display_data"
    },
    {
     "data": {
      "image/png": "[encoded data removed]",
      "text/plain": [
       "<Figure size 432x288 with 2 Axes>"
      ]
     },
     "metadata": {
      "needs_background": "light"
     },
     "output_type": "display_data"
    },
    {
     "data": {
      "image/png": "[encoded data removed]",
      "text/plain": [
       "<Figure size 432x288 with 2 Axes>"
      ]
     },
     "metadata": {
      "needs_background": "light"
     },
     "output_type": "display_data"
    },
    {
     "data": {
      "image/png": "[encoded data removed]",
      "text/plain": [
       "<Figure size 432x288 with 2 Axes>"
      ]
     },
     "metadata": {
      "needs_background": "light"
     },
     "output_type": "display_data"
    }
   ],
   "source": [
    "titles = ['Nodes energy', 'Border energy', 'Edge energy', 'Node-edges energy']\n",
    "for i in range(4):\n",
    "    fig, ax1 = plt.subplots()\n",
    "    ax1.semilogy(range(len(meta)), [x[i] for x in meta])\n",
    "    ax1.set_xlabel('Iterations')\n",
    "    ax1.set_ylabel('Energy')\n",
    "    ax2 = ax1.twinx()\n",
    "    ax2.plot(range(len(temperature)), temperature, c='r')\n",
    "    ax2.set_ylabel('temperature')\n",
    "    plt.title(titles[i])\n",
    "    plt.show()"
   ]
  },
  {
   "cell_type": "code",
   "execution_count": 51,
   "metadata": {},
   "outputs": [
    {
     "data": {
      "application/vnd.jupyter.widget-view+json": {
       "model_id": "1ca768a391204e2ab45ee4be3587ed5b",
       "version_major": 2,
       "version_minor": 0
      },
      "text/plain": [
       "interactive(children=(IntSlider(value=0, description='t', max=210003), Output()), _dom_classes=('widget-intera…"
      ]
     },
     "metadata": {},
     "output_type": "display_data"
    }
   ],
   "source": [
    "def draw(t):\n",
    "    nx.draw(G, pos=layouts[t], with_labels=True)\n",
    "    plt.xlim(0, W)\n",
    "    plt.ylim(0, H)\n",
    "    plt.axhline(0, color='black')\n",
    "    plt.axvline(0, color='black')\n",
    "    plt.axhline(H, color='black')\n",
    "    plt.axvline(W, color='black')\n",
    "    plt.show()\n",
    "it = interact(draw, t=widgets.IntSlider(min=0,max=len(layouts)-1,step=1,value=0))"
   ]
  }
 ],
 "metadata": {
  "kernelspec": {
   "display_name": "Python 3",
   "language": "python",
   "name": "python3"
  },
  "language_info": {
   "codemirror_mode": {
    "name": "ipython",
    "version": 3
   },
   "file_extension": ".py",
   "mimetype": "text/x-python",
   "name": "python",
   "nbconvert_exporter": "python",
   "pygments_lexer": "ipython3",
   "version": "3.7.1"
  }
 },
 "nbformat": 4,
 "nbformat_minor": 2
}
